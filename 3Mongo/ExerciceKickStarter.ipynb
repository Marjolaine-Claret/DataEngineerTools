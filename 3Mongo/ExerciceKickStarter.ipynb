{
 "cells": [
  {
   "cell_type": "markdown",
   "metadata": {},
   "source": [
    "#  Consignes\n",
    "\n",
    "## Description\n",
    "\n",
    "Ouvrir le fichier ks-projects-201801.csv, il recense environ 100 000 projets KickStarter. Intégrer les données directement avec L'API Python dans une base de données Mongo. \n",
    "\n",
    "Il conviendra de bien spécifier manuellement l'ID du document. Pensez aussi à bien formatter le type des données pour profiter des méthodes implémentées par Mongo. L'ensemble de données n'est pas forcément nécessaire, c'est à vous de créer votre modèle de données.\n",
    "\n",
    "## Questions\n",
    "\n",
    "- 1) Récupérer les 5 projets ayant reçu le plus de promesse de dons.\n",
    "- 2) Compter le nombre de projets ayant atteint leur but.\n",
    "- 3) Compter le nombre de projets pour chaque catégorie.\n",
    "- 4) Compter le nombre de projets français ayant été instanciés avant 2016.\n",
    "- 5) Récupérer les projets américains ayant demandé plus de 200 000 dollars.\n",
    "- 6) Compter le nombre de projet ayant \"Sport\" dans leur nom"
   ]
  },
  {
   "cell_type": "code",
   "execution_count": 226,
   "metadata": {},
   "outputs": [],
   "source": [
    "import pandas as pd\n",
    "import pymongo\n",
    "import datetime\n",
    "import re"
   ]
  },
  {
   "cell_type": "code",
   "execution_count": 2,
   "metadata": {},
   "outputs": [],
   "source": [
    "client = pymongo.MongoClient()\n",
    "database = client['exercices']\n",
    "collection = database['kickstarter']"
   ]
  },
  {
   "cell_type": "code",
   "execution_count": 145,
   "metadata": {},
   "outputs": [
    {
     "output_type": "execute_result",
     "data": {
      "text/plain": [
       "           ID                                             name category  \\\n",
       "0   872782264  Scott Cooper's Solo CD \"A Leg Trick\" (Canceled)     Rock   \n",
       "1  1326492673                                  Ohceola jewelry  Fashion   \n",
       "\n",
       "  main_category currency    deadline   goal             launched pledged  \\\n",
       "0         Music      USD  2011-09-16   2000  2011-08-17 06:31:31    1145   \n",
       "1       Fashion      USD  2012-08-22  18000  2012-07-23 20:46:48    1851   \n",
       "\n",
       "      state backers country usd pledged  usd_pledged_real  \n",
       "0  canceled      24      US        1145            1145.0  \n",
       "1    failed      28      US        1851            1851.0  "
      ],
      "text/html": "<div>\n<style scoped>\n    .dataframe tbody tr th:only-of-type {\n        vertical-align: middle;\n    }\n\n    .dataframe tbody tr th {\n        vertical-align: top;\n    }\n\n    .dataframe thead th {\n        text-align: right;\n    }\n</style>\n<table border=\"1\" class=\"dataframe\">\n  <thead>\n    <tr style=\"text-align: right;\">\n      <th></th>\n      <th>ID</th>\n      <th>name</th>\n      <th>category</th>\n      <th>main_category</th>\n      <th>currency</th>\n      <th>deadline</th>\n      <th>goal</th>\n      <th>launched</th>\n      <th>pledged</th>\n      <th>state</th>\n      <th>backers</th>\n      <th>country</th>\n      <th>usd pledged</th>\n      <th>usd_pledged_real</th>\n    </tr>\n  </thead>\n  <tbody>\n    <tr>\n      <th>0</th>\n      <td>872782264</td>\n      <td>Scott Cooper's Solo CD \"A Leg Trick\" (Canceled)</td>\n      <td>Rock</td>\n      <td>Music</td>\n      <td>USD</td>\n      <td>2011-09-16</td>\n      <td>2000</td>\n      <td>2011-08-17 06:31:31</td>\n      <td>1145</td>\n      <td>canceled</td>\n      <td>24</td>\n      <td>US</td>\n      <td>1145</td>\n      <td>1145.0</td>\n    </tr>\n    <tr>\n      <th>1</th>\n      <td>1326492673</td>\n      <td>Ohceola jewelry</td>\n      <td>Fashion</td>\n      <td>Fashion</td>\n      <td>USD</td>\n      <td>2012-08-22</td>\n      <td>18000</td>\n      <td>2012-07-23 20:46:48</td>\n      <td>1851</td>\n      <td>failed</td>\n      <td>28</td>\n      <td>US</td>\n      <td>1851</td>\n      <td>1851.0</td>\n    </tr>\n  </tbody>\n</table>\n</div>"
     },
     "metadata": {},
     "execution_count": 145
    }
   ],
   "source": [
    "df_ks = pd.read_csv(\"./data/ks-projects-201801-sample.csv\")\n",
    "df_ks.head(2)"
   ]
  },
  {
   "cell_type": "markdown",
   "metadata": {},
   "source": [
    "Ce warning intervient lorsque pandas n'arrive pas à inférer le type de données. Il est sympa il précise les colones 6,8,10,12. "
   ]
  },
  {
   "cell_type": "code",
   "execution_count": 10,
   "metadata": {},
   "outputs": [
    {
     "data": {
      "text/plain": [
       "Index(['goal', 'pledged', 'backers', 'usd pledged'], dtype='object')"
      ]
     },
     "execution_count": 10,
     "metadata": {},
     "output_type": "execute_result"
    }
   ],
   "source": [
    "df_ks.columns[[6,8,10,12]]"
   ]
  },
  {
   "cell_type": "markdown",
   "metadata": {},
   "source": [
    "## Question 0"
   ]
  },
  {
   "source": [
    "Tout d'abord nous regardons les types des features pour s'assurer qu'ils sont cohérents :"
   ],
   "cell_type": "markdown",
   "metadata": {}
  },
  {
   "cell_type": "code",
   "execution_count": 4,
   "metadata": {},
   "outputs": [
    {
     "output_type": "execute_result",
     "data": {
      "text/plain": [
       "ID                    int64\n",
       "name                 object\n",
       "category             object\n",
       "main_category        object\n",
       "currency             object\n",
       "deadline             object\n",
       "goal                 object\n",
       "launched             object\n",
       "pledged              object\n",
       "state                object\n",
       "backers              object\n",
       "country              object\n",
       "usd pledged          object\n",
       "usd_pledged_real    float64\n",
       "dtype: object"
      ]
     },
     "metadata": {},
     "execution_count": 4
    }
   ],
   "source": [
    "df_ks.dtypes"
   ]
  },
  {
   "source": [
    "Il y a des conversions à faire : backers, goals, pledged, usd pledged en float et deadline et launched en datetime."
   ],
   "cell_type": "markdown",
   "metadata": {}
  },
  {
   "source": [
    "- Goal :"
   ],
   "cell_type": "markdown",
   "metadata": {}
  },
  {
   "source": [
    "Il y a visiblement une erreur lors de l'entrée des données dans goal (sans doute échange de 2 colonnes):"
   ],
   "cell_type": "markdown",
   "metadata": {}
  },
  {
   "cell_type": "code",
   "execution_count": 40,
   "metadata": {
    "tags": []
   },
   "outputs": [
    {
     "output_type": "stream",
     "name": "stdout",
     "text": [
      "ERROR at index 66141: '2014-04-17'\n"
     ]
    }
   ],
   "source": [
    "for i, item in enumerate(df_ks['goal']):\n",
    "   try:\n",
    "      float(item)\n",
    "   except ValueError:\n",
    "      print('ERROR at index {}: {!r}'.format(i, item))"
   ]
  },
  {
   "source": [
    "On peut donc logiquement s'attendre à avoir un problème sur 1 ligne pour tous les features, pour le vérifier nous allons afficher la ligne en question (index 66141) :"
   ],
   "cell_type": "markdown",
   "metadata": {}
  },
  {
   "cell_type": "code",
   "execution_count": 41,
   "metadata": {},
   "outputs": [
    {
     "output_type": "execute_result",
     "data": {
      "text/plain": [
       "ID                                                        872782264\n",
       "name                Scott Cooper's Solo CD \"A Leg Trick\" (Canceled)\n",
       "category                                                       Rock\n",
       "main_category                                                 Music\n",
       "currency                                                        USD\n",
       "deadline                                                 2011-09-16\n",
       "goal                                                           2000\n",
       "launched                                        2011-08-17 06:31:31\n",
       "pledged                                                        1145\n",
       "state                                                      canceled\n",
       "backers                                                          24\n",
       "country                                                          US\n",
       "usd pledged                                                    1145\n",
       "usd_pledged_real                                               1145\n",
       "Name: 0, dtype: object"
      ]
     },
     "metadata": {},
     "execution_count": 41
    }
   ],
   "source": [
    "df_ks.loc[0, :]"
   ]
  },
  {
   "cell_type": "code",
   "execution_count": 39,
   "metadata": {},
   "outputs": [
    {
     "output_type": "execute_result",
     "data": {
      "text/plain": [
       "ID                                        85964225\n",
       "name                Debut Album from Michael Adam \n",
       "category                          Grace is Leaving\n",
       "main_category                           Indie Rock\n",
       "currency                                     Music\n",
       "deadline                                       USD\n",
       "goal                                    2014-04-17\n",
       "launched                                     700.0\n",
       "pledged                        2014-04-02 21:56:35\n",
       "state                                        850.0\n",
       "backers                                 successful\n",
       "country                                         32\n",
       "usd pledged                                     US\n",
       "usd_pledged_real                               850\n",
       "Name: 66141, dtype: object"
      ]
     },
     "metadata": {},
     "execution_count": 39
    }
   ],
   "source": [
    "df_ks.loc[66141, :]"
   ]
  },
  {
   "source": [
    "Cette ligne a bien été mal remplie : visiblement le nom name a été par erreur séparé en 2 (nom = name + category), nous allons la restaurer pour ne pas perdre d'informations :"
   ],
   "cell_type": "markdown",
   "metadata": {}
  },
  {
   "cell_type": "code",
   "execution_count": 146,
   "metadata": {},
   "outputs": [
    {
     "output_type": "execute_result",
     "data": {
      "text/plain": [
       "             ID                                            name    category  \\\n",
       "66141  85964225  Debut Album from Michael Adam Grace is Leaving  Indie Rock   \n",
       "\n",
       "      main_category currency    deadline goal             launched pledged  \\\n",
       "66141         Music      USD  2014-04-17  700  2014-04-02 21:56:35     850   \n",
       "\n",
       "            state backers country usd pledged  usd_pledged_real  \n",
       "66141  successful      32      US         850             850.0  "
      ],
      "text/html": "<div>\n<style scoped>\n    .dataframe tbody tr th:only-of-type {\n        vertical-align: middle;\n    }\n\n    .dataframe tbody tr th {\n        vertical-align: top;\n    }\n\n    .dataframe thead th {\n        text-align: right;\n    }\n</style>\n<table border=\"1\" class=\"dataframe\">\n  <thead>\n    <tr style=\"text-align: right;\">\n      <th></th>\n      <th>ID</th>\n      <th>name</th>\n      <th>category</th>\n      <th>main_category</th>\n      <th>currency</th>\n      <th>deadline</th>\n      <th>goal</th>\n      <th>launched</th>\n      <th>pledged</th>\n      <th>state</th>\n      <th>backers</th>\n      <th>country</th>\n      <th>usd pledged</th>\n      <th>usd_pledged_real</th>\n    </tr>\n  </thead>\n  <tbody>\n    <tr>\n      <th>66141</th>\n      <td>85964225</td>\n      <td>Debut Album from Michael Adam Grace is Leaving</td>\n      <td>Indie Rock</td>\n      <td>Music</td>\n      <td>USD</td>\n      <td>2014-04-17</td>\n      <td>700</td>\n      <td>2014-04-02 21:56:35</td>\n      <td>850</td>\n      <td>successful</td>\n      <td>32</td>\n      <td>US</td>\n      <td>850</td>\n      <td>850.0</td>\n    </tr>\n  </tbody>\n</table>\n</div>"
     },
     "metadata": {},
     "execution_count": 146
    }
   ],
   "source": [
    "dic = [85964225, 'Debut Album from Michael Adam Grace is Leaving', 'Indie Rock', 'Music', 'USD', '2014-04-17', 700.0, '2014-04-02 21:56:35', 850.0, \"successful\", 32, 'US', 850, 850.00]\n",
    "df_ks.loc[[66141], :] = dic\n",
    "df_ks.loc[[66141], :]"
   ]
  },
  {
   "source": [
    "Vérifions qu'il n'y a plus de problème à présent:"
   ],
   "cell_type": "markdown",
   "metadata": {}
  },
  {
   "cell_type": "code",
   "execution_count": 147,
   "metadata": {},
   "outputs": [
    {
     "output_type": "execute_result",
     "data": {
      "text/plain": [
       "ID                     0\n",
       "name                   2\n",
       "category               0\n",
       "main_category          0\n",
       "currency               0\n",
       "deadline               0\n",
       "goal                   0\n",
       "launched               0\n",
       "pledged                0\n",
       "state                  0\n",
       "backers                0\n",
       "country                0\n",
       "usd pledged         1482\n",
       "usd_pledged_real       0\n",
       "dtype: int64"
      ]
     },
     "metadata": {},
     "execution_count": 147
    }
   ],
   "source": [
    "df_ks.isna().sum()"
   ]
  },
  {
   "source": [
    "Nous allons conserver les lignes pour lesquelles il n'y a pas de NA afin de ne pas perdre d'informations :"
   ],
   "cell_type": "markdown",
   "metadata": {}
  },
  {
   "cell_type": "code",
   "execution_count": 148,
   "metadata": {},
   "outputs": [],
   "source": [
    "df_ks = df_ks[df_ks.isna().any(axis=1)==False]"
   ]
  },
  {
   "source": [
    "Nous n'avons plus de NA à présent :"
   ],
   "cell_type": "markdown",
   "metadata": {}
  },
  {
   "cell_type": "code",
   "execution_count": 140,
   "metadata": {},
   "outputs": [
    {
     "output_type": "execute_result",
     "data": {
      "text/plain": [
       "0"
      ]
     },
     "metadata": {},
     "execution_count": 140
    }
   ],
   "source": [
    "df_ks.isna().sum().sum()"
   ]
  },
  {
   "source": [
    "Nous pouvons à présent convertir les données sans problème normalement. "
   ],
   "cell_type": "markdown",
   "metadata": {}
  },
  {
   "cell_type": "code",
   "execution_count": 149,
   "metadata": {},
   "outputs": [],
   "source": [
    "dtype = {'ID' : 'int64', 'name' : 'string', 'category' : 'string', 'main_category' : 'string', 'currency' : 'string', 'deadline' : 'datetime64[ns]',\n",
    "       'goal' : 'float64', 'launched' : 'datetime64[ns]', 'pledged' : 'float64', 'state' : 'string', 'backers' : 'float64', 'country' : 'string',\n",
    "       'usd pledged' : 'float64', 'usd_pledged_real' : 'float64'}\n",
    "df_ks= df_ks.astype(dtype)"
   ]
  },
  {
   "source": [
    "La conversion s'est bien déroulée :"
   ],
   "cell_type": "markdown",
   "metadata": {}
  },
  {
   "cell_type": "code",
   "execution_count": 107,
   "metadata": {},
   "outputs": [
    {
     "output_type": "execute_result",
     "data": {
      "text/plain": [
       "ID                           int64\n",
       "name                        string\n",
       "category                    string\n",
       "main_category               string\n",
       "currency                    string\n",
       "deadline            datetime64[ns]\n",
       "goal                       float64\n",
       "launched            datetime64[ns]\n",
       "pledged                    float64\n",
       "state                       string\n",
       "backers                    float64\n",
       "country                     string\n",
       "usd pledged                float64\n",
       "usd_pledged_real           float64\n",
       "dtype: object"
      ]
     },
     "metadata": {},
     "execution_count": 107
    }
   ],
   "source": [
    "df_ks.dtypes"
   ]
  },
  {
   "source": [
    "Le dataframe obtenu contient donc les colonnes :"
   ],
   "cell_type": "markdown",
   "metadata": {}
  },
  {
   "cell_type": "code",
   "execution_count": 84,
   "metadata": {},
   "outputs": [
    {
     "output_type": "execute_result",
     "data": {
      "text/plain": [
       "Index(['ID', 'name', 'category', 'main_category', 'currency', 'deadline',\n",
       "       'goal', 'launched', 'pledged', 'state', 'backers', 'country',\n",
       "       'usd pledged', 'usd_pledged_real'],\n",
       "      dtype='object')"
      ]
     },
     "metadata": {},
     "execution_count": 84
    }
   ],
   "source": [
    "df_ks.columns"
   ]
  },
  {
   "source": [
    "Afin d'avoir un dataframe plus clair et optimisé (et de réduire les temps d'exécution des requêtes) nous allons passer en revue les questions de cet exercice afin de retirer les colonnes dont nous ne nous servirons visiblement pas :"
   ],
   "cell_type": "markdown",
   "metadata": {}
  },
  {
   "cell_type": "code",
   "execution_count": 150,
   "metadata": {},
   "outputs": [
    {
     "output_type": "execute_result",
     "data": {
      "text/plain": [
       "           ID                                             name category  \\\n",
       "0   872782264  Scott Cooper's Solo CD \"A Leg Trick\" (Canceled)     Rock   \n",
       "1  1326492673                                  Ohceola jewelry  Fashion   \n",
       "\n",
       "  main_category     goal            launched     state country  \\\n",
       "0         Music   2000.0 2011-08-17 06:31:31  canceled      US   \n",
       "1       Fashion  18000.0 2012-07-23 20:46:48    failed      US   \n",
       "\n",
       "   usd_pledged_real  \n",
       "0            1145.0  \n",
       "1            1851.0  "
      ],
      "text/html": "<div>\n<style scoped>\n    .dataframe tbody tr th:only-of-type {\n        vertical-align: middle;\n    }\n\n    .dataframe tbody tr th {\n        vertical-align: top;\n    }\n\n    .dataframe thead th {\n        text-align: right;\n    }\n</style>\n<table border=\"1\" class=\"dataframe\">\n  <thead>\n    <tr style=\"text-align: right;\">\n      <th></th>\n      <th>ID</th>\n      <th>name</th>\n      <th>category</th>\n      <th>main_category</th>\n      <th>goal</th>\n      <th>launched</th>\n      <th>state</th>\n      <th>country</th>\n      <th>usd_pledged_real</th>\n    </tr>\n  </thead>\n  <tbody>\n    <tr>\n      <th>0</th>\n      <td>872782264</td>\n      <td>Scott Cooper's Solo CD \"A Leg Trick\" (Canceled)</td>\n      <td>Rock</td>\n      <td>Music</td>\n      <td>2000.0</td>\n      <td>2011-08-17 06:31:31</td>\n      <td>canceled</td>\n      <td>US</td>\n      <td>1145.0</td>\n    </tr>\n    <tr>\n      <th>1</th>\n      <td>1326492673</td>\n      <td>Ohceola jewelry</td>\n      <td>Fashion</td>\n      <td>Fashion</td>\n      <td>18000.0</td>\n      <td>2012-07-23 20:46:48</td>\n      <td>failed</td>\n      <td>US</td>\n      <td>1851.0</td>\n    </tr>\n  </tbody>\n</table>\n</div>"
     },
     "metadata": {},
     "execution_count": 150
    }
   ],
   "source": [
    "df_ks = df_ks.drop(['currency', 'deadline', 'usd pledged', 'pledged', 'backers'], axis=1)\n",
    "df_ks.head(2)"
   ]
  },
  {
   "source": [
    "Nous allons prendre l'ID spécifié dans le dataset comme ID dans la base de données Mongo, pour qu'il soit interprété comme tel il faut intégrer une colonne _id :"
   ],
   "cell_type": "markdown",
   "metadata": {}
  },
  {
   "cell_type": "code",
   "execution_count": 241,
   "metadata": {},
   "outputs": [],
   "source": [
    "df_ks['_id'] = df_ks['ID']"
   ]
  },
  {
   "source": [
    "Nous allons à présent pouvoir nourrrir la base de données :"
   ],
   "cell_type": "markdown",
   "metadata": {}
  },
  {
   "cell_type": "code",
   "execution_count": 242,
   "metadata": {},
   "outputs": [],
   "source": [
    "DOCUMENTS = df_ks.to_dict('records')"
   ]
  },
  {
   "cell_type": "code",
   "execution_count": 243,
   "metadata": {},
   "outputs": [
    {
     "output_type": "execute_result",
     "data": {
      "text/plain": [
       "{'ID': 872782264,\n",
       " 'name': 'Scott Cooper\\'s Solo CD \"A Leg Trick\" (Canceled)',\n",
       " 'category': 'Rock',\n",
       " 'main_category': 'Music',\n",
       " 'goal': 2000.0,\n",
       " 'launched': Timestamp('2011-08-17 06:31:31'),\n",
       " 'state': 'canceled',\n",
       " 'country': 'US',\n",
       " 'usd_pledged_real': 1145.0,\n",
       " '_id': 872782264}"
      ]
     },
     "metadata": {},
     "execution_count": 243
    }
   ],
   "source": [
    "DOCUMENTS[0]"
   ]
  },
  {
   "source": [
    "Nous insérons en nous assurant qu'il n'y a pas de données dans la base :"
   ],
   "cell_type": "markdown",
   "metadata": {}
  },
  {
   "cell_type": "code",
   "execution_count": 244,
   "metadata": {},
   "outputs": [],
   "source": [
    "collection.drop()"
   ]
  },
  {
   "cell_type": "code",
   "execution_count": 245,
   "metadata": {},
   "outputs": [
    {
     "output_type": "execute_result",
     "data": {
      "text/plain": [
       "<pymongo.results.InsertManyResult at 0x14058dbe0>"
      ]
     },
     "metadata": {},
     "execution_count": 245
    }
   ],
   "source": [
    "collection.insert_many(DOCUMENTS)"
   ]
  },
  {
   "cell_type": "markdown",
   "metadata": {},
   "source": [
    "## Question 1  "
   ]
  },
  {
   "cell_type": "code",
   "execution_count": 179,
   "metadata": {},
   "outputs": [
    {
     "output_type": "execute_result",
     "data": {
      "text/plain": [
       "[{'_id': ObjectId('5fc38a3139e2ae77eff46b8a'),\n",
       "  'name': 'SketchPlanner: Create and Plan- all in one beautiful book!'},\n",
       " {'_id': ObjectId('5fc38a3139e2ae77eff46b8b'),\n",
       "  'name': 'Proven sales with custom motorcycle accessories'},\n",
       " {'_id': ObjectId('5fc38a3139e2ae77eff46b88'), 'name': 'Ohceola jewelry'},\n",
       " {'_id': ObjectId('5fc38a3139e2ae77eff46b87'),\n",
       "  'name': 'Scott Cooper\\'s Solo CD \"A Leg Trick\" (Canceled)'},\n",
       " {'_id': ObjectId('5fc38a3139e2ae77eff46b89'),\n",
       "  'name': 'Sluff Off & Harald: Two latest EGGs are Classics \"old & new\"'}]"
      ]
     },
     "metadata": {},
     "execution_count": 179
    }
   ],
   "source": [
    "cur = collection.find({},\n",
    " {'name':1}).sort([\n",
    "    (\"usd pledged\", 1)]).limit(5)\n",
    "list(cur)"
   ]
  },
  {
   "cell_type": "markdown",
   "metadata": {},
   "source": [
    "## Question 2"
   ]
  },
  {
   "source": [
    "Nous comptons le nombre de projets affichant joyeusement successful dans la colonne state :"
   ],
   "cell_type": "markdown",
   "metadata": {}
  },
  {
   "cell_type": "code",
   "execution_count": 225,
   "metadata": {},
   "outputs": [
    {
     "output_type": "execute_result",
     "data": {
      "text/plain": [
       "52999"
      ]
     },
     "metadata": {},
     "execution_count": 225
    }
   ],
   "source": [
    "cur = collection.find({\n",
    "     \"state\": 'successful' \n",
    "          })\n",
    "len(list(cur))"
   ]
  },
  {
   "cell_type": "markdown",
   "metadata": {},
   "source": [
    "## Question 3"
   ]
  },
  {
   "cell_type": "code",
   "execution_count": 193,
   "metadata": {},
   "outputs": [
    {
     "output_type": "execute_result",
     "data": {
      "text/plain": [
       "[{'_id': 'Theater', 'NumberProjectByCategory': 4305},\n",
       " {'_id': 'Journalism', 'NumberProjectByCategory': 1807},\n",
       " {'_id': 'Photography', 'NumberProjectByCategory': 4176},\n",
       " {'_id': 'Technology', 'NumberProjectByCategory': 12871},\n",
       " {'_id': 'Food', 'NumberProjectByCategory': 9805},\n",
       " {'_id': 'Comics', 'NumberProjectByCategory': 4139},\n",
       " {'_id': 'Art', 'NumberProjectByCategory': 11260},\n",
       " {'_id': 'Games', 'NumberProjectByCategory': 13987},\n",
       " {'_id': 'Publishing', 'NumberProjectByCategory': 15721},\n",
       " {'_id': 'Film & Video', 'NumberProjectByCategory': 24982},\n",
       " {'_id': 'Fashion', 'NumberProjectByCategory': 8943},\n",
       " {'_id': 'Dance', 'NumberProjectByCategory': 1488},\n",
       " {'_id': 'Music', 'NumberProjectByCategory': 19658},\n",
       " {'_id': 'Crafts', 'NumberProjectByCategory': 3463},\n",
       " {'_id': 'Design', 'NumberProjectByCategory': 11911}]"
      ]
     },
     "metadata": {},
     "execution_count": 193
    }
   ],
   "source": [
    "cur = collection.aggregate([{\n",
    "    \"$group\" : {\n",
    "        \"_id\" : \"$main_category\", \n",
    "        \"NumberProjectByCategory\" : {\"$sum\" : 1}}}])\n",
    "list(cur)"
   ]
  },
  {
   "cell_type": "markdown",
   "metadata": {},
   "source": [
    "## Question 4"
   ]
  },
  {
   "source": [
    "Par curiosité, regardons combien de projets français sont présents dans le dataset :"
   ],
   "cell_type": "markdown",
   "metadata": {}
  },
  {
   "cell_type": "code",
   "execution_count": 224,
   "metadata": {},
   "outputs": [
    {
     "output_type": "execute_result",
     "data": {
      "text/plain": [
       "1173"
      ]
     },
     "metadata": {},
     "execution_count": 224
    }
   ],
   "source": [
    "cur = collection.find({\n",
    "     \"country\": 'FR' \n",
    "          })\n",
    "len(list(cur))"
   ]
  },
  {
   "source": [
    "Et avant 2016 il y en a :"
   ],
   "cell_type": "markdown",
   "metadata": {}
  },
  {
   "cell_type": "code",
   "execution_count": 222,
   "metadata": {},
   "outputs": [
    {
     "output_type": "execute_result",
     "data": {
      "text/plain": [
       "330"
      ]
     },
     "metadata": {},
     "execution_count": 222
    }
   ],
   "source": [
    "cur = collection.find({\n",
    "     \"country\": 'FR' \n",
    "          ,\n",
    "          'launched' : {'$lt' : datetime.datetime(2016, 1, 1)}})\n",
    "len(list(cur))"
   ]
  },
  {
   "cell_type": "markdown",
   "metadata": {},
   "source": [
    "## Question 5"
   ]
  },
  {
   "cell_type": "code",
   "execution_count": 223,
   "metadata": {},
   "outputs": [
    {
     "output_type": "execute_result",
     "data": {
      "text/plain": [
       "1841"
      ]
     },
     "metadata": {},
     "execution_count": 223
    }
   ],
   "source": [
    "cur = collection.find({\n",
    "     \"country\": 'US' \n",
    "          ,\n",
    "          'goal' : {'$gt' : 200000}})\n",
    "len(list(cur))"
   ]
  },
  {
   "cell_type": "markdown",
   "metadata": {},
   "source": [
    "## Question 6 "
   ]
  },
  {
   "cell_type": "code",
   "execution_count": 237,
   "metadata": {},
   "outputs": [],
   "source": [
    "collection.drop_indexes()"
   ]
  },
  {
   "cell_type": "code",
   "execution_count": 238,
   "metadata": {},
   "outputs": [
    {
     "output_type": "execute_result",
     "data": {
      "text/plain": [
       "'name_text'"
      ]
     },
     "metadata": {},
     "execution_count": 238
    }
   ],
   "source": [
    "collection.create_index([('name', 'text')])"
   ]
  },
  {
   "source": [
    "Nous pouvons à présent rechercher le nombre de projet incluant Sport dans leur titre :"
   ],
   "cell_type": "markdown",
   "metadata": {}
  },
  {
   "cell_type": "code",
   "execution_count": 240,
   "metadata": {},
   "outputs": [
    {
     "output_type": "execute_result",
     "data": {
      "text/plain": [
       "316"
      ]
     },
     "metadata": {},
     "execution_count": 240
    }
   ],
   "source": [
    "cur = collection.find( { \"$text\": { \"$search\": \"Sport\" } } )\n",
    "len(list(cur))"
   ]
  },
  {
   "cell_type": "code",
   "execution_count": null,
   "metadata": {},
   "outputs": [],
   "source": []
  }
 ],
 "metadata": {
  "kernelspec": {
   "display_name": "Python 3",
   "language": "python",
   "name": "python3"
  },
  "language_info": {
   "codemirror_mode": {
    "name": "ipython",
    "version": 3
   },
   "file_extension": ".py",
   "mimetype": "text/x-python",
   "name": "python",
   "nbconvert_exporter": "python",
   "pygments_lexer": "ipython3",
   "version": "3.7.6-final"
  }
 },
 "nbformat": 4,
 "nbformat_minor": 2
}