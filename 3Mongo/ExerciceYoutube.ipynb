{
 "cells": [
  {
   "cell_type": "markdown",
   "metadata": {},
   "source": [
    "# Consignes\n",
    "\n",
    "Intégrer le fichier USvideos.csv qui représente un ensemble de 8000 vidéos Youtube. \n",
    "\n",
    "Merger le fichier US_category_id.json pour récupérer le nom des catégories. Il conviendra de bien spécifier l'ID du document.\n",
    "\n",
    "\n",
    "# Questions \n",
    "- 1) Récupérer toutes les vidéos de la chaîne Apple.\n",
    "- 2) Compter le nombre de catégories différentes\n",
    "- 3) Si vous ne l'avez pas déjà fait, découper les tags en listes et mettre à jour les tags de chacun des documents avec une requête update.\n",
    "- 4) Récupérer les vidéos les plus vues.\n",
    "- 5) Compter le nombre moyen de vues en fonction de la catégorie.\n",
    "- 6) Récupérer les chaines Youtube avec la plus grande moyenne de likes."
   ]
  },
  {
   "cell_type": "code",
   "execution_count": 2,
   "metadata": {
    "ExecuteTime": {
     "end_time": "2020-12-27T15:25:13.828770Z",
     "start_time": "2020-12-27T15:25:12.969548Z"
    }
   },
   "outputs": [],
   "source": [
    "import pandas as pd\n",
    "import pymongo"
   ]
  },
  {
   "cell_type": "code",
   "execution_count": 3,
   "metadata": {
    "ExecuteTime": {
     "end_time": "2020-12-27T15:25:14.273927Z",
     "start_time": "2020-12-27T15:25:14.242982Z"
    }
   },
   "outputs": [],
   "source": [
    "client = pymongo.MongoClient()\n",
    "database = client['exercices']\n",
    "collection = database['youtube']"
   ]
  },
  {
   "cell_type": "markdown",
   "metadata": {},
   "source": [
    "## Question 0"
   ]
  },
  {
   "cell_type": "markdown",
   "metadata": {},
   "source": [
    "## csv US videos"
   ]
  },
  {
   "cell_type": "code",
   "execution_count": 4,
   "metadata": {
    "ExecuteTime": {
     "end_time": "2020-12-27T15:25:20.094117Z",
     "start_time": "2020-12-27T15:25:19.985141Z"
    }
   },
   "outputs": [
    {
     "data": {
      "text/html": [
       "<div>\n",
       "<style scoped>\n",
       "    .dataframe tbody tr th:only-of-type {\n",
       "        vertical-align: middle;\n",
       "    }\n",
       "\n",
       "    .dataframe tbody tr th {\n",
       "        vertical-align: top;\n",
       "    }\n",
       "\n",
       "    .dataframe thead th {\n",
       "        text-align: right;\n",
       "    }\n",
       "</style>\n",
       "<table border=\"1\" class=\"dataframe\">\n",
       "  <thead>\n",
       "    <tr style=\"text-align: right;\">\n",
       "      <th></th>\n",
       "      <th>video_id</th>\n",
       "      <th>title</th>\n",
       "      <th>channel_title</th>\n",
       "      <th>category_id</th>\n",
       "      <th>tags</th>\n",
       "      <th>views</th>\n",
       "      <th>likes</th>\n",
       "      <th>dislikes</th>\n",
       "      <th>comment_total</th>\n",
       "      <th>thumbnail_link</th>\n",
       "      <th>date</th>\n",
       "    </tr>\n",
       "  </thead>\n",
       "  <tbody>\n",
       "    <tr>\n",
       "      <th>0</th>\n",
       "      <td>XpVt6Z1Gjjo</td>\n",
       "      <td>1 YEAR OF VLOGGING -- HOW LOGAN PAUL CHANGED Y...</td>\n",
       "      <td>Logan Paul Vlogs</td>\n",
       "      <td>24</td>\n",
       "      <td>logan paul vlog|logan paul|logan|paul|olympics...</td>\n",
       "      <td>4394029</td>\n",
       "      <td>320053</td>\n",
       "      <td>5931</td>\n",
       "      <td>46245</td>\n",
       "      <td>https://i.ytimg.com/vi/XpVt6Z1Gjjo/default.jpg</td>\n",
       "      <td>13.09</td>\n",
       "    </tr>\n",
       "    <tr>\n",
       "      <th>1</th>\n",
       "      <td>K4wEI5zhHB0</td>\n",
       "      <td>iPhone X — Introducing iPhone X — Apple</td>\n",
       "      <td>Apple</td>\n",
       "      <td>28</td>\n",
       "      <td>Apple|iPhone 10|iPhone Ten|iPhone|Portrait Lig...</td>\n",
       "      <td>7860119</td>\n",
       "      <td>185853</td>\n",
       "      <td>26679</td>\n",
       "      <td>0</td>\n",
       "      <td>https://i.ytimg.com/vi/K4wEI5zhHB0/default.jpg</td>\n",
       "      <td>13.09</td>\n",
       "    </tr>\n",
       "  </tbody>\n",
       "</table>\n",
       "</div>"
      ],
      "text/plain": [
       "      video_id                                              title  \\\n",
       "0  XpVt6Z1Gjjo  1 YEAR OF VLOGGING -- HOW LOGAN PAUL CHANGED Y...   \n",
       "1  K4wEI5zhHB0            iPhone X — Introducing iPhone X — Apple   \n",
       "\n",
       "      channel_title  category_id  \\\n",
       "0  Logan Paul Vlogs           24   \n",
       "1             Apple           28   \n",
       "\n",
       "                                                tags    views   likes  \\\n",
       "0  logan paul vlog|logan paul|logan|paul|olympics...  4394029  320053   \n",
       "1  Apple|iPhone 10|iPhone Ten|iPhone|Portrait Lig...  7860119  185853   \n",
       "\n",
       "   dislikes  comment_total                                  thumbnail_link  \\\n",
       "0      5931          46245  https://i.ytimg.com/vi/XpVt6Z1Gjjo/default.jpg   \n",
       "1     26679              0  https://i.ytimg.com/vi/K4wEI5zhHB0/default.jpg   \n",
       "\n",
       "    date  \n",
       "0  13.09  \n",
       "1  13.09  "
      ]
     },
     "execution_count": 4,
     "metadata": {},
     "output_type": "execute_result"
    }
   ],
   "source": [
    "df_youtube = pd.read_csv(\"./data/USvideos.csv\")\n",
    "df_youtube.head(2)"
   ]
  },
  {
   "cell_type": "markdown",
   "metadata": {},
   "source": [
    "Le jeu de données ne contient pas de NaN :"
   ]
  },
  {
   "cell_type": "code",
   "execution_count": 5,
   "metadata": {
    "ExecuteTime": {
     "end_time": "2020-12-27T15:25:21.582998Z",
     "start_time": "2020-12-27T15:25:21.571036Z"
    }
   },
   "outputs": [
    {
     "data": {
      "text/plain": [
       "0"
      ]
     },
     "execution_count": 5,
     "metadata": {},
     "output_type": "execute_result"
    }
   ],
   "source": [
    "df_youtube.isna().sum().sum()"
   ]
  },
  {
   "cell_type": "markdown",
   "metadata": {},
   "source": [
    "Nous vérifions que les types des colonnes sont cohérents :"
   ]
  },
  {
   "cell_type": "code",
   "execution_count": 6,
   "metadata": {
    "ExecuteTime": {
     "end_time": "2020-12-27T15:25:23.142481Z",
     "start_time": "2020-12-27T15:25:23.130820Z"
    }
   },
   "outputs": [
    {
     "data": {
      "text/plain": [
       "video_id           object\n",
       "title              object\n",
       "channel_title      object\n",
       "category_id         int64\n",
       "tags               object\n",
       "views               int64\n",
       "likes               int64\n",
       "dislikes            int64\n",
       "comment_total       int64\n",
       "thumbnail_link     object\n",
       "date              float64\n",
       "dtype: object"
      ]
     },
     "execution_count": 6,
     "metadata": {},
     "output_type": "execute_result"
    }
   ],
   "source": [
    "df_youtube.dtypes"
   ]
  },
  {
   "cell_type": "markdown",
   "metadata": {},
   "source": [
    "Concernant tags, il est de la forme suivante :"
   ]
  },
  {
   "cell_type": "code",
   "execution_count": 7,
   "metadata": {
    "ExecuteTime": {
     "end_time": "2020-12-27T15:25:23.929823Z",
     "start_time": "2020-12-27T15:25:23.921916Z"
    }
   },
   "outputs": [
    {
     "data": {
      "text/plain": [
       "'log'"
      ]
     },
     "execution_count": 7,
     "metadata": {},
     "output_type": "execute_result"
    }
   ],
   "source": [
    "df_youtube[\"tags\"][0][:3]"
   ]
  },
  {
   "cell_type": "markdown",
   "metadata": {},
   "source": [
    "Nous allons le passer en liste de strings :"
   ]
  },
  {
   "cell_type": "code",
   "execution_count": 8,
   "metadata": {
    "ExecuteTime": {
     "end_time": "2020-12-27T15:25:25.688912Z",
     "start_time": "2020-12-27T15:25:25.656334Z"
    }
   },
   "outputs": [],
   "source": [
    "df_youtube[\"tags\"]=df_youtube[\"tags\"].apply(lambda x: x.split(\"|\"))"
   ]
  },
  {
   "cell_type": "code",
   "execution_count": 9,
   "metadata": {
    "ExecuteTime": {
     "end_time": "2020-12-27T15:25:26.491346Z",
     "start_time": "2020-12-27T15:25:26.482777Z"
    }
   },
   "outputs": [
    {
     "data": {
      "text/plain": [
       "['logan paul vlog', 'logan paul', 'logan']"
      ]
     },
     "execution_count": 9,
     "metadata": {},
     "output_type": "execute_result"
    }
   ],
   "source": [
    "df_youtube[\"tags\"][0][:3]"
   ]
  },
  {
   "cell_type": "markdown",
   "metadata": {},
   "source": [
    "## csv US category"
   ]
  },
  {
   "cell_type": "code",
   "execution_count": 10,
   "metadata": {
    "ExecuteTime": {
     "end_time": "2020-12-27T15:25:28.282352Z",
     "start_time": "2020-12-27T15:25:28.258510Z"
    }
   },
   "outputs": [
    {
     "data": {
      "text/html": [
       "<div>\n",
       "<style scoped>\n",
       "    .dataframe tbody tr th:only-of-type {\n",
       "        vertical-align: middle;\n",
       "    }\n",
       "\n",
       "    .dataframe tbody tr th {\n",
       "        vertical-align: top;\n",
       "    }\n",
       "\n",
       "    .dataframe thead th {\n",
       "        text-align: right;\n",
       "    }\n",
       "</style>\n",
       "<table border=\"1\" class=\"dataframe\">\n",
       "  <thead>\n",
       "    <tr style=\"text-align: right;\">\n",
       "      <th></th>\n",
       "      <th>kind</th>\n",
       "      <th>etag</th>\n",
       "      <th>items</th>\n",
       "    </tr>\n",
       "  </thead>\n",
       "  <tbody>\n",
       "    <tr>\n",
       "      <th>0</th>\n",
       "      <td>youtube#videoCategoryListResponse</td>\n",
       "      <td>\"m2yskBQFythfE4irbTIeOgYYfBU/S730Ilt-Fi-emsQJv...</td>\n",
       "      <td>{'kind': 'youtube#videoCategory', 'etag': '\"m2...</td>\n",
       "    </tr>\n",
       "    <tr>\n",
       "      <th>1</th>\n",
       "      <td>youtube#videoCategoryListResponse</td>\n",
       "      <td>\"m2yskBQFythfE4irbTIeOgYYfBU/S730Ilt-Fi-emsQJv...</td>\n",
       "      <td>{'kind': 'youtube#videoCategory', 'etag': '\"m2...</td>\n",
       "    </tr>\n",
       "  </tbody>\n",
       "</table>\n",
       "</div>"
      ],
      "text/plain": [
       "                                kind  \\\n",
       "0  youtube#videoCategoryListResponse   \n",
       "1  youtube#videoCategoryListResponse   \n",
       "\n",
       "                                                etag  \\\n",
       "0  \"m2yskBQFythfE4irbTIeOgYYfBU/S730Ilt-Fi-emsQJv...   \n",
       "1  \"m2yskBQFythfE4irbTIeOgYYfBU/S730Ilt-Fi-emsQJv...   \n",
       "\n",
       "                                               items  \n",
       "0  {'kind': 'youtube#videoCategory', 'etag': '\"m2...  \n",
       "1  {'kind': 'youtube#videoCategory', 'etag': '\"m2...  "
      ]
     },
     "execution_count": 10,
     "metadata": {},
     "output_type": "execute_result"
    }
   ],
   "source": [
    "df_cat=pd.read_json(\"./data/US_category_id.json\")\n",
    "df_cat.head(2)\n"
   ]
  },
  {
   "cell_type": "markdown",
   "metadata": {},
   "source": [
    "Les informations qui nous intéressent (id et title) se trouvent dans items :"
   ]
  },
  {
   "cell_type": "markdown",
   "metadata": {},
   "source": [
    "Tout d'abord ramenons id dans les colonnes :"
   ]
  },
  {
   "cell_type": "code",
   "execution_count": 11,
   "metadata": {
    "ExecuteTime": {
     "end_time": "2020-12-27T15:25:30.441594Z",
     "start_time": "2020-12-27T15:25:30.423366Z"
    }
   },
   "outputs": [
    {
     "data": {
      "text/html": [
       "<div>\n",
       "<style scoped>\n",
       "    .dataframe tbody tr th:only-of-type {\n",
       "        vertical-align: middle;\n",
       "    }\n",
       "\n",
       "    .dataframe tbody tr th {\n",
       "        vertical-align: top;\n",
       "    }\n",
       "\n",
       "    .dataframe thead th {\n",
       "        text-align: right;\n",
       "    }\n",
       "</style>\n",
       "<table border=\"1\" class=\"dataframe\">\n",
       "  <thead>\n",
       "    <tr style=\"text-align: right;\">\n",
       "      <th></th>\n",
       "      <th>kind</th>\n",
       "      <th>etag</th>\n",
       "      <th>id</th>\n",
       "      <th>snippet</th>\n",
       "    </tr>\n",
       "  </thead>\n",
       "  <tbody>\n",
       "    <tr>\n",
       "      <th>0</th>\n",
       "      <td>youtube#videoCategory</td>\n",
       "      <td>\"m2yskBQFythfE4irbTIeOgYYfBU/Xy1mB4_yLrHy_BmKm...</td>\n",
       "      <td>1</td>\n",
       "      <td>{'channelId': 'UCBR8-60-B28hp2BmDPdntcQ', 'tit...</td>\n",
       "    </tr>\n",
       "    <tr>\n",
       "      <th>1</th>\n",
       "      <td>youtube#videoCategory</td>\n",
       "      <td>\"m2yskBQFythfE4irbTIeOgYYfBU/UZ1oLIIz2dxIhO45Z...</td>\n",
       "      <td>2</td>\n",
       "      <td>{'channelId': 'UCBR8-60-B28hp2BmDPdntcQ', 'tit...</td>\n",
       "    </tr>\n",
       "  </tbody>\n",
       "</table>\n",
       "</div>"
      ],
      "text/plain": [
       "                    kind                                               etag  \\\n",
       "0  youtube#videoCategory  \"m2yskBQFythfE4irbTIeOgYYfBU/Xy1mB4_yLrHy_BmKm...   \n",
       "1  youtube#videoCategory  \"m2yskBQFythfE4irbTIeOgYYfBU/UZ1oLIIz2dxIhO45Z...   \n",
       "\n",
       "  id                                            snippet  \n",
       "0  1  {'channelId': 'UCBR8-60-B28hp2BmDPdntcQ', 'tit...  \n",
       "1  2  {'channelId': 'UCBR8-60-B28hp2BmDPdntcQ', 'tit...  "
      ]
     },
     "execution_count": 11,
     "metadata": {},
     "output_type": "execute_result"
    }
   ],
   "source": [
    "df_items = pd.DataFrame(df_cat['items'].tolist())\n",
    "df_items.head(2)"
   ]
  },
  {
   "cell_type": "markdown",
   "metadata": {},
   "source": [
    "Maintenant ramenons title dans les colonnes:"
   ]
  },
  {
   "cell_type": "code",
   "execution_count": 12,
   "metadata": {
    "ExecuteTime": {
     "end_time": "2020-12-27T15:25:31.461834Z",
     "start_time": "2020-12-27T15:25:31.449503Z"
    }
   },
   "outputs": [],
   "source": [
    "df_items=df_items.join(pd.DataFrame(df_items['snippet'].tolist()), how='outer')"
   ]
  },
  {
   "cell_type": "markdown",
   "metadata": {},
   "source": [
    "Le jeu de données ne contient pas de NaN :"
   ]
  },
  {
   "cell_type": "code",
   "execution_count": 13,
   "metadata": {
    "ExecuteTime": {
     "end_time": "2020-12-27T15:25:32.585127Z",
     "start_time": "2020-12-27T15:25:32.577365Z"
    }
   },
   "outputs": [
    {
     "data": {
      "text/plain": [
       "0"
      ]
     },
     "execution_count": 13,
     "metadata": {},
     "output_type": "execute_result"
    }
   ],
   "source": [
    "df_items.isna().sum().sum()"
   ]
  },
  {
   "cell_type": "markdown",
   "metadata": {},
   "source": [
    "Et gardons seulement id et title :"
   ]
  },
  {
   "cell_type": "code",
   "execution_count": 14,
   "metadata": {
    "ExecuteTime": {
     "end_time": "2020-12-27T15:25:34.513560Z",
     "start_time": "2020-12-27T15:25:34.498511Z"
    }
   },
   "outputs": [
    {
     "data": {
      "text/html": [
       "<div>\n",
       "<style scoped>\n",
       "    .dataframe tbody tr th:only-of-type {\n",
       "        vertical-align: middle;\n",
       "    }\n",
       "\n",
       "    .dataframe tbody tr th {\n",
       "        vertical-align: top;\n",
       "    }\n",
       "\n",
       "    .dataframe thead th {\n",
       "        text-align: right;\n",
       "    }\n",
       "</style>\n",
       "<table border=\"1\" class=\"dataframe\">\n",
       "  <thead>\n",
       "    <tr style=\"text-align: right;\">\n",
       "      <th></th>\n",
       "      <th>id</th>\n",
       "      <th>title</th>\n",
       "    </tr>\n",
       "  </thead>\n",
       "  <tbody>\n",
       "    <tr>\n",
       "      <th>0</th>\n",
       "      <td>1</td>\n",
       "      <td>Film &amp; Animation</td>\n",
       "    </tr>\n",
       "    <tr>\n",
       "      <th>1</th>\n",
       "      <td>2</td>\n",
       "      <td>Autos &amp; Vehicles</td>\n",
       "    </tr>\n",
       "  </tbody>\n",
       "</table>\n",
       "</div>"
      ],
      "text/plain": [
       "  id             title\n",
       "0  1  Film & Animation\n",
       "1  2  Autos & Vehicles"
      ]
     },
     "execution_count": 14,
     "metadata": {},
     "output_type": "execute_result"
    }
   ],
   "source": [
    "df_items=df_items.drop(['snippet', 'kind', 'etag', 'channelId', 'assignable'], axis=1)\n",
    "df_items.head(2)"
   ]
  },
  {
   "cell_type": "code",
   "execution_count": 15,
   "metadata": {
    "ExecuteTime": {
     "end_time": "2020-12-27T15:25:36.658216Z",
     "start_time": "2020-12-27T15:25:36.650278Z"
    }
   },
   "outputs": [
    {
     "data": {
      "text/plain": [
       "id       object\n",
       "title    object\n",
       "dtype: object"
      ]
     },
     "execution_count": 15,
     "metadata": {},
     "output_type": "execute_result"
    }
   ],
   "source": [
    "df_items.dtypes"
   ]
  },
  {
   "cell_type": "markdown",
   "metadata": {},
   "source": [
    "Il faut convertir id en int afin de pouvoir merger et nous allons renommer title en category pour que ça soit plus clair (doublon) :"
   ]
  },
  {
   "cell_type": "code",
   "execution_count": 16,
   "metadata": {
    "ExecuteTime": {
     "end_time": "2020-12-27T15:25:37.631847Z",
     "start_time": "2020-12-27T15:25:37.626025Z"
    }
   },
   "outputs": [],
   "source": [
    "df_items['id'] = df_items['id'].astype('int')\n",
    "df_items = df_items.rename(columns={'title': 'category'})"
   ]
  },
  {
   "cell_type": "markdown",
   "metadata": {},
   "source": [
    "Maintenant nous pouvons merger les deux dataframes sur l'id (category_id et id) :"
   ]
  },
  {
   "cell_type": "code",
   "execution_count": 17,
   "metadata": {
    "ExecuteTime": {
     "end_time": "2020-12-27T15:25:38.527131Z",
     "start_time": "2020-12-27T15:25:38.474154Z"
    }
   },
   "outputs": [
    {
     "data": {
      "text/html": [
       "<div>\n",
       "<style scoped>\n",
       "    .dataframe tbody tr th:only-of-type {\n",
       "        vertical-align: middle;\n",
       "    }\n",
       "\n",
       "    .dataframe tbody tr th {\n",
       "        vertical-align: top;\n",
       "    }\n",
       "\n",
       "    .dataframe thead th {\n",
       "        text-align: right;\n",
       "    }\n",
       "</style>\n",
       "<table border=\"1\" class=\"dataframe\">\n",
       "  <thead>\n",
       "    <tr style=\"text-align: right;\">\n",
       "      <th></th>\n",
       "      <th>video_id</th>\n",
       "      <th>title</th>\n",
       "      <th>channel_title</th>\n",
       "      <th>tags</th>\n",
       "      <th>views</th>\n",
       "      <th>likes</th>\n",
       "      <th>dislikes</th>\n",
       "      <th>comment_total</th>\n",
       "      <th>thumbnail_link</th>\n",
       "      <th>date</th>\n",
       "      <th>id</th>\n",
       "      <th>category</th>\n",
       "    </tr>\n",
       "  </thead>\n",
       "  <tbody>\n",
       "    <tr>\n",
       "      <th>0</th>\n",
       "      <td>XpVt6Z1Gjjo</td>\n",
       "      <td>1 YEAR OF VLOGGING -- HOW LOGAN PAUL CHANGED Y...</td>\n",
       "      <td>Logan Paul Vlogs</td>\n",
       "      <td>[logan paul vlog, logan paul, logan, paul, oly...</td>\n",
       "      <td>4394029</td>\n",
       "      <td>320053</td>\n",
       "      <td>5931</td>\n",
       "      <td>46245</td>\n",
       "      <td>https://i.ytimg.com/vi/XpVt6Z1Gjjo/default.jpg</td>\n",
       "      <td>13.09</td>\n",
       "      <td>24</td>\n",
       "      <td>Entertainment</td>\n",
       "    </tr>\n",
       "    <tr>\n",
       "      <th>1</th>\n",
       "      <td>K4wEI5zhHB0</td>\n",
       "      <td>iPhone X — Introducing iPhone X — Apple</td>\n",
       "      <td>Apple</td>\n",
       "      <td>[Apple, iPhone 10, iPhone Ten, iPhone, Portrai...</td>\n",
       "      <td>7860119</td>\n",
       "      <td>185853</td>\n",
       "      <td>26679</td>\n",
       "      <td>0</td>\n",
       "      <td>https://i.ytimg.com/vi/K4wEI5zhHB0/default.jpg</td>\n",
       "      <td>13.09</td>\n",
       "      <td>28</td>\n",
       "      <td>Science &amp; Technology</td>\n",
       "    </tr>\n",
       "  </tbody>\n",
       "</table>\n",
       "</div>"
      ],
      "text/plain": [
       "      video_id                                              title  \\\n",
       "0  XpVt6Z1Gjjo  1 YEAR OF VLOGGING -- HOW LOGAN PAUL CHANGED Y...   \n",
       "1  K4wEI5zhHB0            iPhone X — Introducing iPhone X — Apple   \n",
       "\n",
       "      channel_title                                               tags  \\\n",
       "0  Logan Paul Vlogs  [logan paul vlog, logan paul, logan, paul, oly...   \n",
       "1             Apple  [Apple, iPhone 10, iPhone Ten, iPhone, Portrai...   \n",
       "\n",
       "     views   likes  dislikes  comment_total  \\\n",
       "0  4394029  320053      5931          46245   \n",
       "1  7860119  185853     26679              0   \n",
       "\n",
       "                                   thumbnail_link   date  id  \\\n",
       "0  https://i.ytimg.com/vi/XpVt6Z1Gjjo/default.jpg  13.09  24   \n",
       "1  https://i.ytimg.com/vi/K4wEI5zhHB0/default.jpg  13.09  28   \n",
       "\n",
       "               category  \n",
       "0         Entertainment  \n",
       "1  Science & Technology  "
      ]
     },
     "execution_count": 17,
     "metadata": {},
     "output_type": "execute_result"
    }
   ],
   "source": [
    "df = pd.merge(df_youtube, df_items, how='left', left_on=['category_id'], right_on=['id']).drop('category_id', axis=1)\n",
    "df.head(2)"
   ]
  },
  {
   "cell_type": "markdown",
   "metadata": {},
   "source": [
    "Nous allons pouvoir nourrir la base de données :"
   ]
  },
  {
   "cell_type": "code",
   "execution_count": 18,
   "metadata": {
    "ExecuteTime": {
     "end_time": "2020-12-27T15:25:40.166595Z",
     "start_time": "2020-12-27T15:25:39.993822Z"
    }
   },
   "outputs": [],
   "source": [
    "DOCUMENTS = df.to_dict('records')"
   ]
  },
  {
   "cell_type": "code",
   "execution_count": 19,
   "metadata": {
    "ExecuteTime": {
     "end_time": "2020-12-27T15:25:41.105962Z",
     "start_time": "2020-12-27T15:25:41.098108Z"
    }
   },
   "outputs": [
    {
     "data": {
      "text/plain": [
       "{'video_id': 'XpVt6Z1Gjjo',\n",
       " 'title': '1 YEAR OF VLOGGING -- HOW LOGAN PAUL CHANGED YOUTUBE FOREVER!',\n",
       " 'channel_title': 'Logan Paul Vlogs',\n",
       " 'tags': ['logan paul vlog',\n",
       "  'logan paul',\n",
       "  'logan',\n",
       "  'paul',\n",
       "  'olympics',\n",
       "  'logan paul youtube',\n",
       "  'vlog',\n",
       "  'daily',\n",
       "  'comedy',\n",
       "  'hollywood',\n",
       "  'parrot',\n",
       "  'maverick',\n",
       "  'bird',\n",
       "  'maverick clothes',\n",
       "  'diamond play button',\n",
       "  'logan paul diamond play button',\n",
       "  '10M subscribers',\n",
       "  'logan paul 1 year vlogging',\n",
       "  '1 year vlog',\n",
       "  'dwarf mamba play button',\n",
       "  'logan paul history',\n",
       "  'youtube history',\n",
       "  '10M',\n",
       "  '10M plaque',\n",
       "  'youtube button',\n",
       "  'diamond button',\n",
       "  'logang',\n",
       "  'logang 4 life'],\n",
       " 'views': 4394029,\n",
       " 'likes': 320053,\n",
       " 'dislikes': 5931,\n",
       " 'comment_total': 46245,\n",
       " 'thumbnail_link': 'https://i.ytimg.com/vi/XpVt6Z1Gjjo/default.jpg',\n",
       " 'date': 13.09,\n",
       " 'id': 24,\n",
       " 'category': 'Entertainment'}"
      ]
     },
     "execution_count": 19,
     "metadata": {},
     "output_type": "execute_result"
    }
   ],
   "source": [
    "DOCUMENTS[0]"
   ]
  },
  {
   "cell_type": "code",
   "execution_count": null,
   "metadata": {
    "ExecuteTime": {
     "start_time": "2020-12-27T15:25:42.192Z"
    }
   },
   "outputs": [],
   "source": [
    "collection.insert_many(DOCUMENTS)"
   ]
  },
  {
   "cell_type": "code",
   "execution_count": 87,
   "metadata": {},
   "outputs": [
    {
     "data": {
      "text/plain": [
       "['youtube']"
      ]
     },
     "execution_count": 87,
     "metadata": {},
     "output_type": "execute_result"
    }
   ],
   "source": [
    "database.collection_names()"
   ]
  },
  {
   "cell_type": "markdown",
   "metadata": {},
   "source": [
    "## Question 1  "
   ]
  },
  {
   "cell_type": "markdown",
   "metadata": {},
   "source": [
    "On cherche toutes les vidéos pour lesquelles channel_title vaut Apple :"
   ]
  },
  {
   "cell_type": "code",
   "execution_count": 88,
   "metadata": {},
   "outputs": [
    {
     "data": {
      "text/plain": [
       "{'_id': ObjectId('5fc1292e23dd4be1626a52a3'),\n",
       " 'video_id': 'K4wEI5zhHB0',\n",
       " 'title': 'iPhone X — Introducing iPhone X — Apple',\n",
       " 'channel_title': 'Apple',\n",
       " 'category_id': 28,\n",
       " 'tags': 'Apple|iPhone 10|iPhone Ten|iPhone|Portrait Lighting|A11 Bionic|augmented reality|emoji|animoji|Face ID|Apple Pay|camera|smartphone',\n",
       " 'views': 7860119,\n",
       " 'likes': 185853,\n",
       " 'dislikes': 26679,\n",
       " 'comment_total': 0,\n",
       " 'thumbnail_link': 'https://i.ytimg.com/vi/K4wEI5zhHB0/default.jpg',\n",
       " 'date': 13.09}"
      ]
     },
     "execution_count": 88,
     "metadata": {},
     "output_type": "execute_result"
    }
   ],
   "source": [
    "cur = collection.find({\"channel_title\":\"Apple\"})\n",
    "next(cur)"
   ]
  },
  {
   "cell_type": "markdown",
   "metadata": {},
   "source": [
    "Pour toutes les afficher :"
   ]
  },
  {
   "cell_type": "code",
   "execution_count": null,
   "metadata": {},
   "outputs": [],
   "source": [
    "for document in cur :\n",
    "    print('-----')\n",
    "    print(document)"
   ]
  },
  {
   "cell_type": "markdown",
   "metadata": {},
   "source": [
    "## Question 2"
   ]
  },
  {
   "cell_type": "markdown",
   "metadata": {},
   "source": [
    "Les différentes catégories :"
   ]
  },
  {
   "cell_type": "code",
   "execution_count": 97,
   "metadata": {},
   "outputs": [
    {
     "data": {
      "text/plain": [
       "['Autos & Vehicles',\n",
       " 'Comedy',\n",
       " 'Education',\n",
       " 'Entertainment',\n",
       " 'Film & Animation',\n",
       " 'Gaming',\n",
       " 'Howto & Style',\n",
       " 'Music',\n",
       " 'News & Politics',\n",
       " 'Nonprofits & Activism',\n",
       " 'People & Blogs',\n",
       " 'Pets & Animals',\n",
       " 'Science & Technology',\n",
       " 'Shows',\n",
       " 'Sports',\n",
       " 'Travel & Events']"
      ]
     },
     "execution_count": 97,
     "metadata": {},
     "output_type": "execute_result"
    }
   ],
   "source": [
    "collection.distinct('category')"
   ]
  },
  {
   "cell_type": "markdown",
   "metadata": {},
   "source": [
    "Soit un total de :"
   ]
  },
  {
   "cell_type": "code",
   "execution_count": 96,
   "metadata": {},
   "outputs": [
    {
     "data": {
      "text/plain": [
       "16"
      ]
     },
     "execution_count": 96,
     "metadata": {},
     "output_type": "execute_result"
    }
   ],
   "source": [
    "len(collection.distinct('category'))"
   ]
  },
  {
   "cell_type": "markdown",
   "metadata": {},
   "source": [
    "On peut affiner la recherche et afficher le nombre de vidéos par catégorie :"
   ]
  },
  {
   "cell_type": "code",
   "execution_count": 92,
   "metadata": {},
   "outputs": [
    {
     "data": {
      "text/plain": [
       "[{'_id': 'Entertainment', 'numberVideos': 1601},\n",
       " {'_id': 'Science & Technology', 'numberVideos': 512},\n",
       " {'_id': 'Howto & Style', 'numberVideos': 869},\n",
       " {'_id': 'Travel & Events', 'numberVideos': 48},\n",
       " {'_id': 'Pets & Animals', 'numberVideos': 116},\n",
       " {'_id': 'Gaming', 'numberVideos': 82},\n",
       " {'_id': 'Autos & Vehicles', 'numberVideos': 116},\n",
       " {'_id': 'Shows', 'numberVideos': 2},\n",
       " {'_id': 'Sports', 'numberVideos': 410},\n",
       " {'_id': 'Comedy', 'numberVideos': 755},\n",
       " {'_id': 'News & Politics', 'numberVideos': 623},\n",
       " {'_id': 'Nonprofits & Activism', 'numberVideos': 14},\n",
       " {'_id': 'Education', 'numberVideos': 334},\n",
       " {'_id': 'People & Blogs', 'numberVideos': 882},\n",
       " {'_id': None, 'numberVideos': 7992},\n",
       " {'_id': 'Film & Animation', 'numberVideos': 378},\n",
       " {'_id': 'Music', 'numberVideos': 1250}]"
      ]
     },
     "execution_count": 92,
     "metadata": {},
     "output_type": "execute_result"
    }
   ],
   "source": [
    "cur = collection.aggregate([{\"$group\" : {\"_id\" : \"$category\", \"numberVideos\" : {\"$sum\" : 1}}}])\n",
    "list(cur)"
   ]
  },
  {
   "cell_type": "markdown",
   "metadata": {},
   "source": [
    "## Question 3"
   ]
  },
  {
   "cell_type": "markdown",
   "metadata": {},
   "source": [
    "Déjà réalisé."
   ]
  },
  {
   "cell_type": "markdown",
   "metadata": {},
   "source": [
    "## Question 4"
   ]
  },
  {
   "cell_type": "markdown",
   "metadata": {},
   "source": [
    "Pour afficher les vidéos les plus vues nous devons avoir un ordre de grandeur en tête concernant la distribution des vues :"
   ]
  },
  {
   "cell_type": "code",
   "execution_count": 123,
   "metadata": {},
   "outputs": [
    {
     "data": {
      "text/plain": [
       "[{'_id': 'NaN', 'MaximumValue': 41500672, 'AvgValue': 939026.9064064064}]"
      ]
     },
     "execution_count": 123,
     "metadata": {},
     "output_type": "execute_result"
    }
   ],
   "source": [
    "cur = collection.aggregate([\n",
    "   { \"$group\": {\n",
    "      \"_id\": \"NaN\",\n",
    "      \"MaximumValue\": { \"$max\": \"$views\" },\n",
    "      \"AvgValue\": { \"$avg\": \"$views\" }\n",
    "   }}\n",
    "])\n",
    "list(cur)"
   ]
  },
  {
   "cell_type": "markdown",
   "metadata": {},
   "source": [
    "Cherchons le 1/4 le plus élevé :"
   ]
  },
  {
   "cell_type": "code",
   "execution_count": 151,
   "metadata": {},
   "outputs": [
    {
     "name": "stdout",
     "output_type": "stream",
     "text": [
      "21219849.453203205\n"
     ]
    }
   ],
   "source": [
    "views = (41500672 + 939026.9064064064)/2\n",
    "print(views)"
   ]
  },
  {
   "cell_type": "markdown",
   "metadata": {},
   "source": [
    "On va donc s'intéresser aux vidéos dont le nombre de vues est supérieur à 21219850."
   ]
  },
  {
   "cell_type": "code",
   "execution_count": 152,
   "metadata": {},
   "outputs": [
    {
     "data": {
      "text/plain": [
       "{'numberVideoWithGreatViews': 32}"
      ]
     },
     "execution_count": 152,
     "metadata": {},
     "output_type": "execute_result"
    }
   ],
   "source": [
    "cur = collection.aggregate(\n",
    "[\n",
    "    {\n",
    "      '$match': {\n",
    "        'views': {\n",
    "          '$gt': views\n",
    "        }\n",
    "      }\n",
    "    },\n",
    "    {\n",
    "      '$count': \"numberVideoWithGreatViews\"\n",
    "    }\n",
    "  ]\n",
    ")\n",
    "next(cur)"
   ]
  },
  {
   "cell_type": "markdown",
   "metadata": {},
   "source": [
    "Il y a donc 32 vidéos qui sont dans le 1/4 le plus élevé."
   ]
  },
  {
   "cell_type": "code",
   "execution_count": 142,
   "metadata": {},
   "outputs": [
    {
     "data": {
      "text/plain": [
       "{'_id': ObjectId('5fc1292e23dd4be1626a5353'), 'video_id': 'tt2k8PGm-TI'}"
      ]
     },
     "execution_count": 142,
     "metadata": {},
     "output_type": "execute_result"
    }
   ],
   "source": [
    "cur = collection.find( { \"views\": { \"$gt\": 21219850 }}, {\"video_id\":1})\n",
    "next(cur)"
   ]
  },
  {
   "cell_type": "markdown",
   "metadata": {},
   "source": [
    "Pour toutes les afficher :"
   ]
  },
  {
   "cell_type": "code",
   "execution_count": null,
   "metadata": {},
   "outputs": [],
   "source": [
    "for document in cur :\n",
    "    print('-----')\n",
    "    print(document)"
   ]
  },
  {
   "cell_type": "markdown",
   "metadata": {},
   "source": [
    "## Question 5"
   ]
  },
  {
   "cell_type": "code",
   "execution_count": 143,
   "metadata": {},
   "outputs": [
    {
     "data": {
      "text/plain": [
       "[{'_id': 'Gaming', 'numberAvgViews': 681081.8170731707},\n",
       " {'_id': 'Autos & Vehicles', 'numberAvgViews': 607693.8706896552},\n",
       " {'_id': 'Shows', 'numberAvgViews': 8492.5},\n",
       " {'_id': 'Sports', 'numberAvgViews': 728434.3243902439},\n",
       " {'_id': 'Comedy', 'numberAvgViews': 1240073.294039735},\n",
       " {'_id': 'News & Politics', 'numberAvgViews': 540955.5569823436},\n",
       " {'_id': 'Nonprofits & Activism', 'numberAvgViews': 1110334.2142857143},\n",
       " {'_id': 'Education', 'numberAvgViews': 547582.4700598803},\n",
       " {'_id': 'People & Blogs', 'numberAvgViews': 971532.7573696146},\n",
       " {'_id': 'Film & Animation', 'numberAvgViews': 1039472.6560846561},\n",
       " {'_id': 'Music', 'numberAvgViews': 1176553.612},\n",
       " {'_id': None, 'numberAvgViews': 939026.9064064064},\n",
       " {'_id': 'Entertainment', 'numberAvgViews': 1154868.4397251718},\n",
       " {'_id': 'Science & Technology', 'numberAvgViews': 924730.548828125},\n",
       " {'_id': 'Howto & Style', 'numberAvgViews': 537665.1806674339},\n",
       " {'_id': 'Travel & Events', 'numberAvgViews': 464041.0833333333},\n",
       " {'_id': 'Pets & Animals', 'numberAvgViews': 651404.3879310344}]"
      ]
     },
     "execution_count": 143,
     "metadata": {},
     "output_type": "execute_result"
    }
   ],
   "source": [
    "cur = collection.aggregate([{\n",
    "    \"$group\" : {\n",
    "        \"_id\" : \"$category\", \"numberAvgViews\" : {\"$avg\" : \"$views\"}\n",
    "        }}])\n",
    "list(cur)"
   ]
  },
  {
   "cell_type": "markdown",
   "metadata": {},
   "source": [
    "## Question 6 "
   ]
  },
  {
   "cell_type": "markdown",
   "metadata": {},
   "source": [
    "On commence par chercher le nombre moyen de like par channel title :"
   ]
  },
  {
   "cell_type": "code",
   "execution_count": 145,
   "metadata": {},
   "outputs": [
    {
     "data": {
      "text/plain": [
       "[{'_id': 'Rifootball', 'numberAvgLikes': 16.0},\n",
       " {'_id': 'Fortune Magazine', 'numberAvgLikes': 61.0},\n",
       " {'_id': 'Moto Geek', 'numberAvgLikes': 1.0}]"
      ]
     },
     "execution_count": 145,
     "metadata": {},
     "output_type": "execute_result"
    }
   ],
   "source": [
    "cur = collection.aggregate([{\"$group\" : {\"_id\" : \"$channel_title\", \"numberAvgLikes\" : {\"$avg\" : \"$likes\"}}}])\n",
    "list(cur)[:3]"
   ]
  },
  {
   "cell_type": "markdown",
   "metadata": {},
   "source": [
    "Pour sélectionner les chaînes ayant en moyenne le plus grand nombre de likes on doit comme pour le nombre de vue s'intéresser à la distribution des likes par chaine :"
   ]
  },
  {
   "cell_type": "markdown",
   "metadata": {},
   "source": [
    "Nombre de likes et chaine avec le nombre de likes moyen le plus élevé :"
   ]
  },
  {
   "cell_type": "code",
   "execution_count": 167,
   "metadata": {},
   "outputs": [
    {
     "data": {
      "text/plain": [
       "[{'_id': 'ZaynVEVO', 'numberAvgLikes': 1431683.0}]"
      ]
     },
     "execution_count": 167,
     "metadata": {},
     "output_type": "execute_result"
    }
   ],
   "source": [
    "cur = collection.aggregate([{\"$group\" : {\"_id\" : \"$channel_title\", \"numberAvgLikes\" : {\"$avg\" : \"$likes\"}}}, \n",
    "{\n",
    "        \"$sort\": { \"numberAvgLikes\": -1 }},\n",
    "    {\n",
    "        \"$limit\": 1 \n",
    "    }])\n",
    "list(cur)"
   ]
  },
  {
   "cell_type": "code",
   "execution_count": 169,
   "metadata": {},
   "outputs": [
    {
     "data": {
      "text/plain": [
       "[{'_id': 'NaN', 'numberAvgLikes': 34491.92655155155}]"
      ]
     },
     "execution_count": 169,
     "metadata": {},
     "output_type": "execute_result"
    }
   ],
   "source": [
    "cur = collection.aggregate([\n",
    "   { \"$group\": {\n",
    "      \"_id\": \"NaN\",\n",
    "      \"numberAvgLikes\": { \"$avg\": \"$likes\" }\n",
    "   }}\n",
    "])\n",
    "list(cur)"
   ]
  },
  {
   "cell_type": "markdown",
   "metadata": {},
   "source": [
    "Cherchons le 1/4 le plus élevé :"
   ]
  },
  {
   "cell_type": "code",
   "execution_count": 179,
   "metadata": {},
   "outputs": [
    {
     "name": "stdout",
     "output_type": "stream",
     "text": [
      "733087.4632757758\n"
     ]
    }
   ],
   "source": [
    "likes = (1431683.0 + 34491.92655155155) / 2\n",
    "print(likes)"
   ]
  },
  {
   "cell_type": "markdown",
   "metadata": {},
   "source": [
    "On va donc s'intéresser aux chaines dont le nombre de likes moyen est supérieur à 1022429 :"
   ]
  },
  {
   "cell_type": "code",
   "execution_count": 180,
   "metadata": {},
   "outputs": [
    {
     "data": {
      "text/plain": [
       "[{'numberChannelsWithGreatLikes': 5}]"
      ]
     },
     "execution_count": 180,
     "metadata": {},
     "output_type": "execute_result"
    }
   ],
   "source": [
    "cur = collection.aggregate([\n",
    "    {\"$group\" : {\n",
    "        \"_id\" : \"$channel_title\", \n",
    "        \"numberAvgLikes\" : {\"$avg\" : \"$likes\"}\n",
    "        }},\n",
    "   {\n",
    "      '$match': {\n",
    "        'numberAvgLikes': {\n",
    "          '$gt': likes\n",
    "        }\n",
    "      }\n",
    "    },\n",
    "    {\n",
    "      '$count': \"numberChannelsWithGreatLikes\"\n",
    "    }])\n",
    "list(cur)"
   ]
  },
  {
   "cell_type": "markdown",
   "metadata": {},
   "source": [
    "Soit les chaînes :"
   ]
  },
  {
   "cell_type": "code",
   "execution_count": 181,
   "metadata": {},
   "outputs": [
    {
     "data": {
      "text/plain": [
       "[{'_id': 'BETNetworks', 'numberAvgLikes': 769687.625},\n",
       " {'_id': 'jypentertainment', 'numberAvgLikes': 758826.6666666666},\n",
       " {'_id': 'ZaynVEVO', 'numberAvgLikes': 1431683.0},\n",
       " {'_id': 'melanie martinez', 'numberAvgLikes': 911871.5},\n",
       " {'_id': 'ibighit', 'numberAvgLikes': 1371766.25}]"
      ]
     },
     "execution_count": 181,
     "metadata": {},
     "output_type": "execute_result"
    }
   ],
   "source": [
    "cur = collection.aggregate([\n",
    "    {\"$group\" : {\n",
    "        \"_id\" : \"$channel_title\", \n",
    "        \"numberAvgLikes\" : {\"$avg\" : \"$likes\"}\n",
    "        }},\n",
    "   {\n",
    "      '$match': {\n",
    "        'numberAvgLikes': {\n",
    "          '$gt': likes\n",
    "        }\n",
    "      }\n",
    "    }])\n",
    "list(cur)"
   ]
  },
  {
   "cell_type": "code",
   "execution_count": null,
   "metadata": {},
   "outputs": [],
   "source": []
  }
 ],
 "metadata": {
  "hide_input": false,
  "kernelspec": {
   "display_name": "Python 3",
   "language": "python",
   "name": "python3"
  },
  "language_info": {
   "codemirror_mode": {
    "name": "ipython",
    "version": 3
   },
   "file_extension": ".py",
   "mimetype": "text/x-python",
   "name": "python",
   "nbconvert_exporter": "python",
   "pygments_lexer": "ipython3",
   "version": "3.7.6"
  },
  "nbTranslate": {
   "displayLangs": [
    "*"
   ],
   "hotkey": "alt-t",
   "langInMainMenu": true,
   "sourceLang": "en",
   "targetLang": "fr",
   "useGoogleTranslate": true
  },
  "toc": {
   "base_numbering": 1,
   "nav_menu": {},
   "number_sections": true,
   "sideBar": true,
   "skip_h1_title": false,
   "title_cell": "Table of Contents",
   "title_sidebar": "Contents",
   "toc_cell": false,
   "toc_position": {},
   "toc_section_display": true,
   "toc_window_display": false
  },
  "varInspector": {
   "cols": {
    "lenName": 16,
    "lenType": 16,
    "lenVar": 40
   },
   "kernels_config": {
    "python": {
     "delete_cmd_postfix": "",
     "delete_cmd_prefix": "del ",
     "library": "var_list.py",
     "varRefreshCmd": "print(var_dic_list())"
    },
    "r": {
     "delete_cmd_postfix": ") ",
     "delete_cmd_prefix": "rm(",
     "library": "var_list.r",
     "varRefreshCmd": "cat(var_dic_list()) "
    }
   },
   "types_to_exclude": [
    "module",
    "function",
    "builtin_function_or_method",
    "instance",
    "_Feature"
   ],
   "window_display": false
  }
 },
 "nbformat": 4,
 "nbformat_minor": 2
}
