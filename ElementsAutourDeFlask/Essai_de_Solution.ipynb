{
 "cells": [
  {
   "cell_type": "code",
   "execution_count": 2,
   "metadata": {},
   "outputs": [],
   "source": [
    "mkdir test"
   ]
  },
  {
   "cell_type": "code",
   "execution_count": 3,
   "metadata": {},
   "outputs": [
    {
     "name": "stdout",
     "output_type": "stream",
     "text": [
      "/home/bercherj/JFB/Python/ElementsAutourDeFlask/test\n"
     ]
    }
   ],
   "source": [
    "cd test/"
   ]
  },
  {
   "cell_type": "code",
   "execution_count": 5,
   "metadata": {},
   "outputs": [
    {
     "name": "stdout",
     "output_type": "stream",
     "text": [
      "Writing config.py\n"
     ]
    }
   ],
   "source": [
    "#%%file config.py\n",
    "# Sera utilisé pour configurer la db\n",
    "basedir  = os.getcwd()\n",
    "basedir = basedir[0] if isinstance(basedir, list) else basedir\n",
    "\n",
    "class Config(object):\n",
    "    # ...\n",
    "    SQLALCHEMY_DATABASE_URI = os.environ.get('DATABASE_URL') or \\\n",
    "        'sqlite:///' + os.path.join(basedir, 'app.db')\n",
    "    SQLALCHEMY_TRACK_MODIFICATIONS = False"
   ]
  },
  {
   "cell_type": "code",
   "execution_count": 6,
   "metadata": {},
   "outputs": [
    {
     "name": "stdout",
     "output_type": "stream",
     "text": [
      "config.py\r\n"
     ]
    }
   ],
   "source": [
    "ls"
   ]
  },
  {
   "cell_type": "code",
   "execution_count": 7,
   "metadata": {},
   "outputs": [],
   "source": [
    "!mkdir -p exo"
   ]
  },
  {
   "cell_type": "code",
   "execution_count": 8,
   "metadata": {},
   "outputs": [
    {
     "name": "stdout",
     "output_type": "stream",
     "text": [
      "Writing exo/__init__.py\n"
     ]
    }
   ],
   "source": [
    "#%%file exo/__init__.py\n",
    "from flask import Flask\n",
    "#from config import Config # si la config est définie dans config.py\n",
    "from flask_sqlalchemy import SQLAlchemy\n",
    "\n",
    "app = Flask(__name__)\n",
    "app.config.from_object(Config)\n",
    "db = SQLAlchemy(app)\n",
    "\n",
    "\n",
    "#from app import routes, models "
   ]
  },
  {
   "cell_type": "code",
   "execution_count": 9,
   "metadata": {},
   "outputs": [
    {
     "name": "stdout",
     "output_type": "stream",
     "text": [
      "Writing exo/models.py\n"
     ]
    }
   ],
   "source": [
    "%%file exo/models.py\n",
    "from datetime import datetime\n",
    "from app import db  # si app définie dans le __init__\n",
    "\n",
    "class User(db.Model):\n",
    "    id = db.Column(db.Integer, primary_key=True)\n",
    "    username = db.Column(db.String(64), index=True, unique=True)\n",
    "    email = db.Column(db.String(120), index=True, unique=True)\n",
    "    password_hash = db.Column(db.String(128))\n",
    "    posts = db.relationship('Post', backref='author', lazy='dynamic') # crée un lien avec un attribut \"author\" pour chacun des posts\n",
    "\n",
    "    def __repr__(self):\n",
    "        return '<User {}>'.format(self.username)\n",
    "\n",
    "class Years(db.Model):\n",
    "    id = db.Column(db.Integer, primary_key=True)\n",
    "    body = db.Column(db.String(140))\n",
    "    timestamp = db.Column(db.DateTime, index=True, default=datetime.utcnow)\n",
    "    user_id = db.Column(db.Integer, db.ForeignKey('user.id'))\n",
    "\n",
    "    def __repr__(self):\n",
    "        return '<Year {}>'.format(self.body)\n",
    "    \n",
    "  "
   ]
  },
  {
   "cell_type": "code",
   "execution_count": 10,
   "metadata": {},
   "outputs": [
    {
     "name": "stdout",
     "output_type": "stream",
     "text": [
      "Writing exo/forms.py\n"
     ]
    }
   ],
   "source": [
    "%%file exo/forms.py\n",
    "\n",
    "from flask_wtf import Form\n",
    "from wtforms import StringField, SubmitField, PasswordField, BooleanField\n",
    "from wtforms.validators import DataRequired\n",
    "\n",
    "class LoginForm(Form):\n",
    "    login = StringField('Login', validators=[DataRequired()])\n",
    "    password = PasswordField('Password', validators=[DataRequired()])\n",
    "    remember_me = BooleanField('Remember me', default=False)\n",
    "    submit = SubmitField('Go')"
   ]
  },
  {
   "cell_type": "code",
   "execution_count": 13,
   "metadata": {},
   "outputs": [],
   "source": [
    "mkdir exo/templates"
   ]
  },
  {
   "cell_type": "code",
   "execution_count": 14,
   "metadata": {},
   "outputs": [
    {
     "name": "stdout",
     "output_type": "stream",
     "text": [
      "Writing exo/templates/login.html\n"
     ]
    }
   ],
   "source": [
    "%%file exo/templates/login.html\n",
    "{% extends \"bootstrap/base.html\" %}\n",
    "\n",
    "{% block head %}\n",
    "    {{ super() }}\n",
    "        <title>{% block title %}\n",
    "        {% if title %}\n",
    "            {{ title }} \n",
    "        {% else %}\n",
    "            Page\n",
    "        {% endif %}\n",
    "    {% endblock title %}</title>\n",
    "    <style> .container {\n",
    "        margin-left: 30px;\n",
    "    } \n",
    "    </style>\n",
    "\n",
    "\n",
    "{% endblock %}\n",
    "\n",
    "\n",
    "{% block content %}\n",
    "\n",
    "    \n",
    "<div class=\"container\">\n",
    "\n",
    "    {% for message in get_flashed_messages() %}\n",
    "    <div class=\"alert alert-warning\">\n",
    "        <button type=\"button\" class=\"close\" data-dismiss=\"alert\">&times;</button>\n",
    "        {{ message }}\n",
    "    </div>\n",
    "    {% endfor %}\n",
    "\n",
    "    {% block page_content %}{% endblock %}\n",
    "    {% block container %} {% endblock %}\n",
    "\n",
    "\n",
    "\n",
    "\n",
    "<form method=\"POST\" action=\"/login\">\n",
    "{{ form.hidden_tag() }}\n",
    "<p>\n",
    "  <b>{{ form.login.label }} :</b><br>\n",
    "  {{ form.login(size=40, autofocus=True) }}<br>\n",
    "  {% for error in form.login.errors %}\n",
    "  <span style=\"color: red;\">[{{ error }}]</span>\n",
    "  {% endfor %}<br>\n",
    "</p>\n",
    "\n",
    "<p>\n",
    "  <b>{{ form.password.label }} :</b><br>\n",
    "  {{ form.password(size=40) }}<br>\n",
    "  {% for error in form.password.errors %}\n",
    "  <span style=\"color: red;\">[{{ error }}]</span>\n",
    "  {% endfor %}<br>\n",
    "</p>\n",
    "\n",
    "<p>{{ form.submit }}</p>\n",
    "\n",
    "<p>{{ form.remember_me }} <b>{{ form.remember_me.label }}</b></p>\n",
    "\n",
    "</form>\n",
    "\n",
    "</div>\n",
    "\n",
    "{% endblock %}"
   ]
  },
  {
   "cell_type": "code",
   "execution_count": 15,
   "metadata": {},
   "outputs": [
    {
     "name": "stdout",
     "output_type": "stream",
     "text": [
      "Writing run.py\n"
     ]
    }
   ],
   "source": [
    "%%file run.py\n",
    "from flask import Flask, flash, redirect, render_template, \\\n",
    "     request, url_for\n",
    "from flask_login import LoginManager, logout_user, login_required, \\\n",
    "       login_user, current_user, UserMixin\n",
    "from ldap3 import Connection, ALL, Server\n",
    "\n",
    "from forms import LoginForm    \n",
    "from flask_bootstrap import Bootstrap\n",
    "\n",
    "UPLOAD_FOLDER = '/tmp/'\n",
    "ALLOWED_EXTENSIONS = set(['txt', 'pdf', 'png', 'jpg', 'jpeg', 'gif'])\n",
    "\n",
    "\n",
    "app = Flask(__name__)\n",
    "app.config['SECRET_KEY'] = 'you-will-never-guess'\n",
    "app.config['UPLOAD_FOLDER'] = UPLOAD_FOLDER\n",
    "app.config['MAX_CONTENT_LENGTH'] = 16 * 1024 * 1024 # 16 Mb\n",
    "\n",
    "Bootstrap(app)\n",
    "\n",
    "login_manager = LoginManager()\n",
    "login_manager.init_app(app)\n",
    "login_manager.login_view = 'login'\n",
    "login_manager.login_message = 'Veuillez vous connecter pour accéder à cette page.'\n",
    "\n",
    "\n",
    "if __name__=='__main__':\n",
    "    app.run(debug=True, port=2747)\n"
   ]
  },
  {
   "cell_type": "code",
   "execution_count": 16,
   "metadata": {},
   "outputs": [
    {
     "name": "stdout",
     "output_type": "stream",
     "text": [
      "Writing exo/views.py\n"
     ]
    }
   ],
   "source": [
    "%%file exo/views.py\n",
    "#!/usr/bin/env python\n",
    "\n",
    "\n",
    "##\n",
    "def connect(accountName,password):\n",
    "    server = Server('dc1.lan.esiee.fr', use_ssl=True, get_info=ALL)\n",
    "    conn = Connection(server, user=\"cn=LDAP,ou=comptes_services,ou=utilisateurs,DC=lan,DC=esiee,DC=fr\",password=\"UE=cv,VR1^%Mbj43\")\n",
    "    conn.bind()\n",
    "    conn.search('DC=lan, DC=esiee, DC=fr', \"(&(objectclass=person)(sAMAccountName=\"+accountName+\"))\",attributes=['distinguishedName', 'sn', 'telephoneNumber', 'displayName', 'roomNumber', 'givenName','Name'])\n",
    "    if len(conn.entries)>0:\n",
    "        DN = conn.entries[0].distinguishedName.value\n",
    "        conn = Connection(server, user=DN, password=password) \n",
    "        if(conn.bind()) :\n",
    "            return True\n",
    "    return False\n",
    "##\n",
    "\n",
    "def allowed_file(filename):\n",
    "    return '.' in filename and \\\n",
    "           filename.rsplit('.', 1)[1].lower() in ALLOWED_EXTENSIONS\n",
    "\n",
    "\n",
    "@app.route('/')\n",
    "def rien():\n",
    "    return \"Rien ici... <a href='/login'> voir là </a> \"\n",
    "\n",
    "@app.route('/login', methods=('GET', 'POST'))\n",
    "def login():\n",
    "    form = LoginForm()\n",
    "    if form.validate_on_submit():\n",
    "        if connect(form.login.data, form.password.data):\n",
    "            u = User(42, form.login.data)\n",
    "            login_user(u, remember=form.remember_me.data)\n",
    "            return redirect('/success/'+form.login.data)\n",
    "    return render_template('login.html', form=form)\n",
    "\n",
    "@login_required\n",
    "@app.route('/success/<username>')\n",
    "def sucess(username):\n",
    "    return \"Salut \" + username + \".\\nTu es arrivé jusque là. \"\n",
    "\n",
    "\n",
    "@app.route('/upload', methods = ['GET', 'POST'])\n",
    "@app.route('/uploader', methods = ['GET', 'POST'])\n",
    "def upload_file():\n",
    "    import pandas as pd\n",
    "    if request.method == 'POST':\n",
    "        file = request.files['file']\n",
    "        if file and allowed_file(file.filename): \n",
    "            filename = secure_filename(file.filename)\n",
    "            uploaded_file = os.path.join(app.config['UPLOAD_FOLDER'], filename)\n",
    "            file.save(uploaded_file, filename))\n",
    "            flash('file uploaded successfully')        \n",
    "            \"\"\"\n",
    "            Ici ajouter le traitement du fichier\n",
    "            year = filename.split('_')[-1]\n",
    "            df = pd.read_csv(uploaded_file)\n",
    "            for worker in df.index:\n",
    "                u = User(worker, year, *df.loc[worker,:]) \n",
    "                db.session.add(u)\n",
    "                db.session.commit()\n",
    "            \"\"\"\n",
    "            return redirect(url_for('index'))\n",
    "        else:\n",
    "            if file and not allowed_file(file.filename): \n",
    "                flash(\"Un fichier de type autorisé svp\")\n",
    "    return render_template('upload.html', allowed=ALLOWED_EXTENSIONS)  \n",
    "\n",
    "@app.route('/download/<file>')\n",
    "def download(file):\n",
    "    ext = file.split('.')[-1]\n",
    "    return send_file(file,\n",
    "                     attachment_filename=\"result.\"+ext,\n",
    "                     as_attachment=True)\n",
    "\n",
    "@app.route('/plot')\n",
    "\n",
    "\n",
    "@login_required\n",
    "@app.route('/logout')\n",
    "def logout():\n",
    "    logout_user()\n",
    "    return \"you are logged out\"\n",
    "\n"
   ]
  },
  {
   "cell_type": "code",
   "execution_count": 17,
   "metadata": {},
   "outputs": [
    {
     "name": "stdout",
     "output_type": "stream",
     "text": [
      "Writing exo/templates/upload.html\n"
     ]
    }
   ],
   "source": [
    "%%file exo/templates/upload.html\n",
    "<html>\n",
    "    {% with messages = get_flashed_messages() %}\n",
    "      {% if messages %}\n",
    "        {% for message in messages %}\n",
    "          {{ message }}\n",
    "        {% endfor %}\n",
    "      {% endif %}\n",
    "    {% endwith %}\n",
    "   <body>\n",
    "      <h2> File upload </h2>\n",
    "      <p> Choisir un fichier de type {{ allowed }} </p>\n",
    "      <form action = \"/uploader\" method = \"POST\" \n",
    "         enctype = \"multipart/form-data\">\n",
    "         <input type = \"file\" name = \"file\" /> <br><br>\n",
    "         <input type = \"submit\"/>\n",
    "      </form>\n",
    "      \n",
    "   </body>\n",
    "</html>"
   ]
  }
 ],
 "metadata": {
  "hide_input": false,
  "kernelspec": {
   "display_name": "Python 3",
   "language": "python",
   "name": "python3"
  },
  "language_info": {
   "codemirror_mode": {
    "name": "ipython",
    "version": 3
   },
   "file_extension": ".py",
   "mimetype": "text/x-python",
   "name": "python",
   "nbconvert_exporter": "python",
   "pygments_lexer": "ipython3",
   "version": "3.5.0"
  },
  "latex_envs": {
   "LaTeX_envs_menu_present": true,
   "autoclose": false,
   "autocomplete": true,
   "bibliofile": "biblio.bib",
   "cite_by": "apalike",
   "current_citInitial": 1,
   "eqLabelWithNumbers": true,
   "eqNumInitial": 1,
   "hotkeys": {
    "equation": "ctrl-e"
   },
   "labels_anchors": false,
   "latex_user_defs": false,
   "report_style_numbering": false,
   "user_envs_cfg": false
  },
  "nbTranslate": {
   "displayLangs": [
    "*"
   ],
   "hotkey": "alt-t",
   "langInMainMenu": true,
   "sourceLang": "en",
   "targetLang": "fr",
   "useGoogleTranslate": true
  },
  "toc": {
   "base_numbering": 1,
   "lock_sidebar": true,
   "nav_menu": {},
   "number_sections": true,
   "sideBar": true,
   "skip_h1_title": false,
   "title_cell": "Table of Contents",
   "title_sidebar": "Contents",
   "toc_cell": false,
   "toc_position": {},
   "toc_section_display": true,
   "toc_window_display": false
  },
  "varInspector": {
   "cols": {
    "lenName": 16,
    "lenType": 16,
    "lenVar": 40
   },
   "kernels_config": {
    "python": {
     "delete_cmd_postfix": "",
     "delete_cmd_prefix": "del ",
     "library": "var_list.py",
     "varRefreshCmd": "print(var_dic_list())"
    },
    "r": {
     "delete_cmd_postfix": ") ",
     "delete_cmd_prefix": "rm(",
     "library": "var_list.r",
     "varRefreshCmd": "cat(var_dic_list()) "
    }
   },
   "types_to_exclude": [
    "module",
    "function",
    "builtin_function_or_method",
    "instance",
    "_Feature"
   ],
   "window_display": false
  }
 },
 "nbformat": 4,
 "nbformat_minor": 2
}
