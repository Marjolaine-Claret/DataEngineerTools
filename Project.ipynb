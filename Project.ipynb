{
 "cells": [
  {
   "source": [
    "Objectifs : \n",
    "- Récupérer les albums les plus vendus \n",
    "- Récupérer les prix associés\n",
    "- Récupérer les informations complémentaires"
   ],
   "cell_type": "markdown",
   "metadata": {}
  },
  {
   "source": [
    "Nous prenons le plus gros marché du disque existant à savoir les Etats-Unis : [https://www.riaa.com/gold-platinum/?tab_active=top_tallies&ttt=T1A#search_section]"
   ],
   "cell_type": "markdown",
   "metadata": {}
  },
  {
   "cell_type": "code",
   "execution_count": 2,
   "metadata": {
    "ExecuteTime": {
     "end_time": "2020-12-14T13:30:41.219515Z",
     "start_time": "2020-12-14T13:30:41.203531Z"
    }
   },
   "outputs": [],
   "source": [
    "import scrapy\n",
    "from scrapy import Request"
   ]
  },
  {
   "cell_type": "code",
   "execution_count": 21,
   "metadata": {},
   "outputs": [],
   "source": [
    "class RIAASpider(scrapy.Spider):\n",
    "    name = \"riaa\"\n",
    "    allowed_domains = [\"www.riaa.com\"]\n",
    "    start_urls = ['https://www.riaa.com/gold-platinum/?tab_active=awards_by_album#search_section']\n",
    "\n",
    "    def parse(self, response):\n",
    "            import re\n",
    "            cpt = 0\n",
    "            for album in response.xpath('//tr[@class=\"table_award_row\"]'):\n",
    "                if cpt != 10:\n",
    "                    artist = album.xpath('td[@class=\"artists_cell\"]/text()').extract_first()\n",
    "                    info = album.xpath('td[@class=\"others_cell\"]/text()').extract()\n",
    "                    album_title = info[0]\n",
    "                    label = info[1]\n",
    "                    certif_UT = album.xpath('td[@class=\"others_cell format_cell\"]/text()').extract_first()\n",
    "                    certif_UT = re.findall(r\"\\r\\n                    (.+?)                    \",certif_UT)[0]\n",
    "                    cpt += 1 \n",
    "                    yield { \"Artist : \" : artist, \"Album : \" : album_title, \"Label : \" : label, \"Certification unit\" : certif_UT}"
   ]
  },
  {
   "cell_type": "code",
   "execution_count": 3,
   "metadata": {},
   "outputs": [],
   "source": [
    "class SNEPSpider(scrapy.Spider):\n",
    "    name = \"snep\"\n",
    "    allowed_domains = [\"www.snepmusique.com\"]\n",
    "    start_urls = ['https://snepmusique.com/les-certifications/?certification=Double%20Diamant,Triple%20Diamant,Quadruple%20Diamant&categorie=Albums']\n",
    "\n",
    "    def parse(self, response):\n",
    "            import re\n",
    "            cpt = 0\n",
    "            for album in response.xpath('//div[@class=\"description\"]'): \n",
    "                if cpt != 10:\n",
    "                    artist = album.xpath('div[@class=\"artiste\"]/text()').extract_first()\n",
    "                    album_title = album.xpath('div[@class=\"titre\"]/text()').extract_first()\n",
    "                    label = album.xpath('div[@class=\"editeur\"]/text()').extract_first()\n",
    "                    cpt += 1 \n",
    "                    yield { \"Artist : \" : artist, \"Album : \" : album_title, \"Label : \" : label}\n",
    "            \n",
    "            cpt = 0\n",
    "            for album in response.xpath(\"//div[contains(@class, 'certif icon')]\"):\n",
    "                if cpt != 10 :\n",
    "                    certif_UT = album.css(\"div::text\").extract_first()\n",
    "                    cpt += 1\n",
    "\n",
    "                    yield {\"Certification unit\" : certif_UT}"
   ]
  },
  {
   "cell_type": "code",
   "execution_count": null,
   "metadata": {},
   "outputs": [],
   "source": [
    "import scrapy\n",
    "from scrapy import Request\n",
    "\n",
    "class labelspider(scrapy.Spider):\n",
    "    name=\"label\"\n",
    "    allowed_domains = [\"www.discogs.com\"]\n",
    "    start_urls = ['https://www.discogs.com/fr/Taylor-Swift-1989/master/750386']\n",
    "\n",
    "    def parse(self, response):\n",
    "        import re\n",
    "        for label in response.xpath(\"//tr[contains(@class, 'card r_tr main release')]\"):\n",
    "        #for label in response.xpath('//div[@class=\"section m_versions toggle_section toggle_section_remember toggle_section_collapsed\"/p/a[@class=\"section_content toggle_section_content\"/p/a[@class=\"cards table_responsive layout_text-only\"]'):\n",
    "            label_item = label.css(\"tr::text\").extract_first()\n",
    "            #label_item = label.css(\"td[@class='label has_header']::text\").extract_first()\n",
    "            yield label_item"
   ]
  }
 ],
 "metadata": {
  "hide_input": false,
  "kernelspec": {
   "display_name": "Python 3",
   "language": "python",
   "name": "python3"
  },
  "language_info": {
   "codemirror_mode": {
    "name": "ipython",
    "version": 3
   },
   "file_extension": ".py",
   "mimetype": "text/x-python",
   "name": "python",
   "nbconvert_exporter": "python",
   "pygments_lexer": "ipython3",
   "version": "3.7.6-final"
  },
  "nbTranslate": {
   "displayLangs": [
    "*"
   ],
   "hotkey": "alt-t",
   "langInMainMenu": true,
   "sourceLang": "en",
   "targetLang": "fr",
   "useGoogleTranslate": true
  },
  "toc": {
   "base_numbering": 1,
   "nav_menu": {},
   "number_sections": true,
   "sideBar": true,
   "skip_h1_title": false,
   "title_cell": "Table of Contents",
   "title_sidebar": "Contents",
   "toc_cell": false,
   "toc_position": {},
   "toc_section_display": true,
   "toc_window_display": false
  },
  "varInspector": {
   "cols": {
    "lenName": 16,
    "lenType": 16,
    "lenVar": 40
   },
   "kernels_config": {
    "python": {
     "delete_cmd_postfix": "",
     "delete_cmd_prefix": "del ",
     "library": "var_list.py",
     "varRefreshCmd": "print(var_dic_list())"
    },
    "r": {
     "delete_cmd_postfix": ") ",
     "delete_cmd_prefix": "rm(",
     "library": "var_list.r",
     "varRefreshCmd": "cat(var_dic_list()) "
    }
   },
   "types_to_exclude": [
    "module",
    "function",
    "builtin_function_or_method",
    "instance",
    "_Feature"
   ],
   "window_display": false
  }
 },
 "nbformat": 4,
 "nbformat_minor": 4
}